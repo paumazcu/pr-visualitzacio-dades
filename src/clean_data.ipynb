{
 "cells": [
  {
   "cell_type": "markdown",
   "metadata": {},
   "source": [
    "Màster en ciència de dades UOC - Pràctica de visualització de dades - Pau Mazcuñán Garcia \n",
    "\n",
    "# Anàlisi del rendiment acadèmic dels estudiants a Bangladesh\n",
    "\n",
    "Font dataset original: [Kaggle](https://www.kaggle.com/datasets/satayjit/student-performance-bd/data)\n",
    "\n",
    "## Objectius"
   ]
  },
  {
   "cell_type": "markdown",
   "metadata": {},
   "source": [
    "L'objectiu de la pràctica que m'he proposat és crear les visualitzacions següents:\n",
    "\n",
    "* Veure si hi ha alguna relació entre el nivell educatiu del pare i la mare i el rendiment acadèmic. A priori sembla intuïtiu pensar que com més alt és el nivell educatiu dels pares, més estabilitat econòmica tenen i per tant l'estudiant disposa de més facilitats per a l'estudi. \n",
    "* Veure si hi ha alguna relació entre el temps d'estudi dedicat i les activitats extraescolars, i alhora relacionat amb el rendiment acadèmic. És a dir, podem pensar que si participen a activitats extraescolars hi ha menys temps per a l'estudi i això es tradueix en un pitjor rendiment acadèmic.\n",
    "* Veure si hi ha \"correlacions\" fortes de diverses variables categòriques amb el rendiment acadèmic. Per exemple l'accés a Internet, la intervenció dels pares en els estudis del seu fill o filla, el fet que els pares tinguin feina, el tipus d'escola.\n",
    "\n",
    "Per explorar aquestes hipòtesis amb visualitzacions de dades necessitarem fer un preprocessament correcte del dataset com el que detallem a continuació:\n",
    "\n",
    "* El dataset original mostra el rendiment acadèmic desglossat per camps (arts, ciència, llengua, etc.). Per simplificar-ho crearem un nou camp *avg_grade* fent la mitjana entre les variables dels camps específics.\n",
    "* Unificar les variables binàries *mother_job* i *father_job* amb una nova variable *parents_job* amb tres categories, en funció de si no tenen feina cap dels dos, només un o bé els dos.\n",
    "* Eliminar les variables innecessàries."
   ]
  },
  {
   "cell_type": "markdown",
   "metadata": {
    "vscode": {
     "languageId": "plaintext"
    }
   },
   "source": [
    "## Preprocessament i neteja de les dades"
   ]
  },
  {
   "cell_type": "markdown",
   "metadata": {},
   "source": [
    "Carreguem el dataset i vegem algunes dades"
   ]
  },
  {
   "cell_type": "code",
   "execution_count": 1,
   "metadata": {},
   "outputs": [],
   "source": [
    "import pandas as pd"
   ]
  },
  {
   "cell_type": "code",
   "execution_count": 2,
   "metadata": {},
   "outputs": [
    {
     "data": {
      "text/html": [
       "<div>\n",
       "<style scoped>\n",
       "    .dataframe tbody tr th:only-of-type {\n",
       "        vertical-align: middle;\n",
       "    }\n",
       "\n",
       "    .dataframe tbody tr th {\n",
       "        vertical-align: top;\n",
       "    }\n",
       "\n",
       "    .dataframe thead th {\n",
       "        text-align: right;\n",
       "    }\n",
       "</style>\n",
       "<table border=\"1\" class=\"dataframe\">\n",
       "  <thead>\n",
       "    <tr style=\"text-align: right;\">\n",
       "      <th></th>\n",
       "      <th>id</th>\n",
       "      <th>full_name</th>\n",
       "      <th>age</th>\n",
       "      <th>gender</th>\n",
       "      <th>location</th>\n",
       "      <th>family_size</th>\n",
       "      <th>mother_education</th>\n",
       "      <th>father_education</th>\n",
       "      <th>mother_job</th>\n",
       "      <th>father_job</th>\n",
       "      <th>...</th>\n",
       "      <th>tutoring</th>\n",
       "      <th>school_type</th>\n",
       "      <th>attendance</th>\n",
       "      <th>extra_curricular_activities</th>\n",
       "      <th>english</th>\n",
       "      <th>math</th>\n",
       "      <th>science</th>\n",
       "      <th>social_science</th>\n",
       "      <th>art_culture</th>\n",
       "      <th>stu_group</th>\n",
       "    </tr>\n",
       "  </thead>\n",
       "  <tbody>\n",
       "    <tr>\n",
       "      <th>0</th>\n",
       "      <td>2</td>\n",
       "      <td>Avi Biswas</td>\n",
       "      <td>16</td>\n",
       "      <td>Male</td>\n",
       "      <td>Urban</td>\n",
       "      <td>6</td>\n",
       "      <td>SSC</td>\n",
       "      <td>HSC</td>\n",
       "      <td>No</td>\n",
       "      <td>No</td>\n",
       "      <td>...</td>\n",
       "      <td>Yes</td>\n",
       "      <td>Private</td>\n",
       "      <td>95</td>\n",
       "      <td>Yes</td>\n",
       "      <td>95</td>\n",
       "      <td>98</td>\n",
       "      <td>92</td>\n",
       "      <td>94</td>\n",
       "      <td>98</td>\n",
       "      <td>Science</td>\n",
       "    </tr>\n",
       "    <tr>\n",
       "      <th>1</th>\n",
       "      <td>3</td>\n",
       "      <td>Taslima Sultana</td>\n",
       "      <td>18</td>\n",
       "      <td>Female</td>\n",
       "      <td>Rural</td>\n",
       "      <td>6</td>\n",
       "      <td>SSC</td>\n",
       "      <td>HSC</td>\n",
       "      <td>No</td>\n",
       "      <td>Yes</td>\n",
       "      <td>...</td>\n",
       "      <td>No</td>\n",
       "      <td>Semi_Govt</td>\n",
       "      <td>92</td>\n",
       "      <td>No</td>\n",
       "      <td>65</td>\n",
       "      <td>71</td>\n",
       "      <td>40</td>\n",
       "      <td>78</td>\n",
       "      <td>80</td>\n",
       "      <td>Commerce</td>\n",
       "    </tr>\n",
       "    <tr>\n",
       "      <th>2</th>\n",
       "      <td>4</td>\n",
       "      <td>Md Adilur Rahman</td>\n",
       "      <td>15</td>\n",
       "      <td>Male</td>\n",
       "      <td>Rural</td>\n",
       "      <td>4</td>\n",
       "      <td>SSC</td>\n",
       "      <td>SSC</td>\n",
       "      <td>Yes</td>\n",
       "      <td>Yes</td>\n",
       "      <td>...</td>\n",
       "      <td>Yes</td>\n",
       "      <td>Govt</td>\n",
       "      <td>81</td>\n",
       "      <td>Yes</td>\n",
       "      <td>64</td>\n",
       "      <td>78</td>\n",
       "      <td>58</td>\n",
       "      <td>86</td>\n",
       "      <td>74</td>\n",
       "      <td>Commerce</td>\n",
       "    </tr>\n",
       "    <tr>\n",
       "      <th>3</th>\n",
       "      <td>5</td>\n",
       "      <td>Saleh Ahmed</td>\n",
       "      <td>16</td>\n",
       "      <td>Male</td>\n",
       "      <td>Rural</td>\n",
       "      <td>6</td>\n",
       "      <td>SSC</td>\n",
       "      <td>SSC</td>\n",
       "      <td>Yes</td>\n",
       "      <td>Yes</td>\n",
       "      <td>...</td>\n",
       "      <td>Yes</td>\n",
       "      <td>Private</td>\n",
       "      <td>90</td>\n",
       "      <td>Yes</td>\n",
       "      <td>84</td>\n",
       "      <td>90</td>\n",
       "      <td>85</td>\n",
       "      <td>86</td>\n",
       "      <td>88</td>\n",
       "      <td>Science</td>\n",
       "    </tr>\n",
       "    <tr>\n",
       "      <th>4</th>\n",
       "      <td>6</td>\n",
       "      <td>Din Islam</td>\n",
       "      <td>17</td>\n",
       "      <td>Male</td>\n",
       "      <td>Urban</td>\n",
       "      <td>5</td>\n",
       "      <td>Honors</td>\n",
       "      <td>Masters</td>\n",
       "      <td>No</td>\n",
       "      <td>Yes</td>\n",
       "      <td>...</td>\n",
       "      <td>Yes</td>\n",
       "      <td>Semi_Govt</td>\n",
       "      <td>75</td>\n",
       "      <td>Yes</td>\n",
       "      <td>54</td>\n",
       "      <td>70</td>\n",
       "      <td>45</td>\n",
       "      <td>79</td>\n",
       "      <td>76</td>\n",
       "      <td>Commerce</td>\n",
       "    </tr>\n",
       "  </tbody>\n",
       "</table>\n",
       "<p>5 rows × 24 columns</p>\n",
       "</div>"
      ],
      "text/plain": [
       "   id         full_name  age  gender location  family_size mother_education  \\\n",
       "0   2        Avi Biswas   16    Male    Urban            6              SSC   \n",
       "1   3   Taslima Sultana   18  Female    Rural            6              SSC   \n",
       "2   4  Md Adilur Rahman   15    Male    Rural            4              SSC   \n",
       "3   5       Saleh Ahmed   16    Male    Rural            6              SSC   \n",
       "4   6         Din Islam   17    Male    Urban            5           Honors   \n",
       "\n",
       "  father_education mother_job father_job  ... tutoring school_type attendance  \\\n",
       "0              HSC         No         No  ...      Yes     Private         95   \n",
       "1              HSC         No        Yes  ...       No   Semi_Govt         92   \n",
       "2              SSC        Yes        Yes  ...      Yes        Govt         81   \n",
       "3              SSC        Yes        Yes  ...      Yes     Private         90   \n",
       "4          Masters         No        Yes  ...      Yes   Semi_Govt         75   \n",
       "\n",
       "   extra_curricular_activities english math  science social_science  \\\n",
       "0                          Yes      95   98       92             94   \n",
       "1                           No      65   71       40             78   \n",
       "2                          Yes      64   78       58             86   \n",
       "3                          Yes      84   90       85             86   \n",
       "4                          Yes      54   70       45             79   \n",
       "\n",
       "   art_culture  stu_group  \n",
       "0           98    Science  \n",
       "1           80   Commerce  \n",
       "2           74   Commerce  \n",
       "3           88    Science  \n",
       "4           76   Commerce  \n",
       "\n",
       "[5 rows x 24 columns]"
      ]
     },
     "execution_count": 2,
     "metadata": {},
     "output_type": "execute_result"
    }
   ],
   "source": [
    "raw_data = pd.read_csv(\"../data/bd_students_per_v2.csv\")\n",
    "raw_data.head()"
   ]
  },
  {
   "cell_type": "markdown",
   "metadata": {},
   "source": [
    "Comencem per crear la nova variable *avg_grade*"
   ]
  },
  {
   "cell_type": "code",
   "execution_count": 3,
   "metadata": {},
   "outputs": [
    {
     "data": {
      "text/html": [
       "<div>\n",
       "<style scoped>\n",
       "    .dataframe tbody tr th:only-of-type {\n",
       "        vertical-align: middle;\n",
       "    }\n",
       "\n",
       "    .dataframe tbody tr th {\n",
       "        vertical-align: top;\n",
       "    }\n",
       "\n",
       "    .dataframe thead th {\n",
       "        text-align: right;\n",
       "    }\n",
       "</style>\n",
       "<table border=\"1\" class=\"dataframe\">\n",
       "  <thead>\n",
       "    <tr style=\"text-align: right;\">\n",
       "      <th></th>\n",
       "      <th>english</th>\n",
       "      <th>math</th>\n",
       "      <th>science</th>\n",
       "      <th>social_science</th>\n",
       "      <th>art_culture</th>\n",
       "      <th>avg_grade</th>\n",
       "    </tr>\n",
       "  </thead>\n",
       "  <tbody>\n",
       "    <tr>\n",
       "      <th>0</th>\n",
       "      <td>95</td>\n",
       "      <td>98</td>\n",
       "      <td>92</td>\n",
       "      <td>94</td>\n",
       "      <td>98</td>\n",
       "      <td>95.4</td>\n",
       "    </tr>\n",
       "    <tr>\n",
       "      <th>1</th>\n",
       "      <td>65</td>\n",
       "      <td>71</td>\n",
       "      <td>40</td>\n",
       "      <td>78</td>\n",
       "      <td>80</td>\n",
       "      <td>66.8</td>\n",
       "    </tr>\n",
       "    <tr>\n",
       "      <th>2</th>\n",
       "      <td>64</td>\n",
       "      <td>78</td>\n",
       "      <td>58</td>\n",
       "      <td>86</td>\n",
       "      <td>74</td>\n",
       "      <td>72.0</td>\n",
       "    </tr>\n",
       "    <tr>\n",
       "      <th>3</th>\n",
       "      <td>84</td>\n",
       "      <td>90</td>\n",
       "      <td>85</td>\n",
       "      <td>86</td>\n",
       "      <td>88</td>\n",
       "      <td>86.6</td>\n",
       "    </tr>\n",
       "    <tr>\n",
       "      <th>4</th>\n",
       "      <td>54</td>\n",
       "      <td>70</td>\n",
       "      <td>45</td>\n",
       "      <td>79</td>\n",
       "      <td>76</td>\n",
       "      <td>64.8</td>\n",
       "    </tr>\n",
       "  </tbody>\n",
       "</table>\n",
       "</div>"
      ],
      "text/plain": [
       "   english  math  science  social_science  art_culture  avg_grade\n",
       "0       95    98       92              94           98       95.4\n",
       "1       65    71       40              78           80       66.8\n",
       "2       64    78       58              86           74       72.0\n",
       "3       84    90       85              86           88       86.6\n",
       "4       54    70       45              79           76       64.8"
      ]
     },
     "execution_count": 3,
     "metadata": {},
     "output_type": "execute_result"
    }
   ],
   "source": [
    "data = raw_data.copy()\n",
    "data[\"avg_grade\"] = data[[\"english\", \"math\", \"science\", \"social_science\", \"art_culture\"]].mean(axis=1)\n",
    "data[[\"english\", \"math\", \"science\", \"social_science\", \"art_culture\", \"avg_grade\"]].head()"
   ]
  },
  {
   "cell_type": "markdown",
   "metadata": {},
   "source": [
    "A continuació creem la nova variable *parents_job* que tindrà valor 0 si ni el pare ni la mare treballa, 1 si un dels dos treballa o 2 si els dos treballen."
   ]
  },
  {
   "cell_type": "code",
   "execution_count": 4,
   "metadata": {},
   "outputs": [
    {
     "data": {
      "text/html": [
       "<div>\n",
       "<style scoped>\n",
       "    .dataframe tbody tr th:only-of-type {\n",
       "        vertical-align: middle;\n",
       "    }\n",
       "\n",
       "    .dataframe tbody tr th {\n",
       "        vertical-align: top;\n",
       "    }\n",
       "\n",
       "    .dataframe thead th {\n",
       "        text-align: right;\n",
       "    }\n",
       "</style>\n",
       "<table border=\"1\" class=\"dataframe\">\n",
       "  <thead>\n",
       "    <tr style=\"text-align: right;\">\n",
       "      <th></th>\n",
       "      <th>parents_job</th>\n",
       "      <th>mother_job</th>\n",
       "      <th>father_job</th>\n",
       "    </tr>\n",
       "  </thead>\n",
       "  <tbody>\n",
       "    <tr>\n",
       "      <th>0</th>\n",
       "      <td>0</td>\n",
       "      <td>No</td>\n",
       "      <td>No</td>\n",
       "    </tr>\n",
       "    <tr>\n",
       "      <th>1</th>\n",
       "      <td>1</td>\n",
       "      <td>No</td>\n",
       "      <td>Yes</td>\n",
       "    </tr>\n",
       "    <tr>\n",
       "      <th>2</th>\n",
       "      <td>2</td>\n",
       "      <td>Yes</td>\n",
       "      <td>Yes</td>\n",
       "    </tr>\n",
       "    <tr>\n",
       "      <th>3</th>\n",
       "      <td>2</td>\n",
       "      <td>Yes</td>\n",
       "      <td>Yes</td>\n",
       "    </tr>\n",
       "    <tr>\n",
       "      <th>4</th>\n",
       "      <td>1</td>\n",
       "      <td>No</td>\n",
       "      <td>Yes</td>\n",
       "    </tr>\n",
       "  </tbody>\n",
       "</table>\n",
       "</div>"
      ],
      "text/plain": [
       "   parents_job mother_job father_job\n",
       "0            0         No         No\n",
       "1            1         No        Yes\n",
       "2            2        Yes        Yes\n",
       "3            2        Yes        Yes\n",
       "4            1         No        Yes"
      ]
     },
     "execution_count": 4,
     "metadata": {},
     "output_type": "execute_result"
    }
   ],
   "source": [
    "data[\"parents_job\"] = data.apply(lambda row: (row[\"mother_job\"] == \"Yes\") + (row[\"father_job\"] == \"Yes\"), axis=1)\n",
    "data[[\"parents_job\", \"mother_job\", \"father_job\"]].head()"
   ]
  },
  {
   "cell_type": "markdown",
   "metadata": {},
   "source": [
    "Fixem-nos amb les variables *Mother_education* i *Father_education* dos dels valors possibles són \"Honors\" i \"Hons\"."
   ]
  },
  {
   "cell_type": "code",
   "execution_count": 5,
   "metadata": {},
   "outputs": [
    {
     "name": "stdout",
     "output_type": "stream",
     "text": [
      "Father_education values: ['HSC', 'SSC', 'Masters', 'Diploma', 'Honors', 'Hons', 'Under_SSC', 'Non_Educated', nan]\n",
      "Mother_education values: ['SSC', 'Honors', 'HSC', 'Diploma', 'Masters', 'Under_SSC', 'Hons', 'Non_Educated', nan]\n"
     ]
    }
   ],
   "source": [
    "print(f\"Father_education values: {list(data[\"father_education\"].unique())}\")\n",
    "print(f\"Mother_education values: {list(data[\"mother_education\"].unique())}\")"
   ]
  },
  {
   "cell_type": "markdown",
   "metadata": {},
   "source": [
    "Suposarem que \"Hons\" i \"Honors\" són equivalents i unificarem el valor."
   ]
  },
  {
   "cell_type": "code",
   "execution_count": 6,
   "metadata": {},
   "outputs": [],
   "source": [
    "data[\"father_education\"] = data[\"father_education\"].replace(\"Hons\", \"Honors\")\n",
    "data[\"mother_education\"] = data[\"mother_education\"].replace(\"Hons\", \"Honors\")"
   ]
  },
  {
   "cell_type": "markdown",
   "metadata": {},
   "source": [
    "Per acabar el preprocessament veiem totes les variables que té el nou dataframe i n'eliminem les innecessàries."
   ]
  },
  {
   "cell_type": "code",
   "execution_count": 7,
   "metadata": {},
   "outputs": [
    {
     "name": "stdout",
     "output_type": "stream",
     "text": [
      "Index(['id', 'full_name', 'age', 'gender', 'location', 'family_size',\n",
      "       'mother_education', 'father_education', 'mother_job', 'father_job',\n",
      "       'guardian', 'parental_involvement', 'internet_access', 'studytime',\n",
      "       'tutoring', 'school_type', 'attendance', 'extra_curricular_activities',\n",
      "       'english', 'math', 'science', 'social_science', 'art_culture',\n",
      "       'stu_group', 'avg_grade', 'parents_job'],\n",
      "      dtype='object')\n"
     ]
    }
   ],
   "source": [
    "print(data.columns)"
   ]
  },
  {
   "cell_type": "code",
   "execution_count": 8,
   "metadata": {},
   "outputs": [
    {
     "data": {
      "text/html": [
       "<div>\n",
       "<style scoped>\n",
       "    .dataframe tbody tr th:only-of-type {\n",
       "        vertical-align: middle;\n",
       "    }\n",
       "\n",
       "    .dataframe tbody tr th {\n",
       "        vertical-align: top;\n",
       "    }\n",
       "\n",
       "    .dataframe thead th {\n",
       "        text-align: right;\n",
       "    }\n",
       "</style>\n",
       "<table border=\"1\" class=\"dataframe\">\n",
       "  <thead>\n",
       "    <tr style=\"text-align: right;\">\n",
       "      <th></th>\n",
       "      <th>mother_education</th>\n",
       "      <th>father_education</th>\n",
       "      <th>studytime</th>\n",
       "      <th>extra_curricular_activities</th>\n",
       "      <th>parents_job</th>\n",
       "      <th>internet_access</th>\n",
       "      <th>parental_involvement</th>\n",
       "      <th>school_type</th>\n",
       "      <th>avg_grade</th>\n",
       "    </tr>\n",
       "  </thead>\n",
       "  <tbody>\n",
       "    <tr>\n",
       "      <th>0</th>\n",
       "      <td>SSC</td>\n",
       "      <td>HSC</td>\n",
       "      <td>8</td>\n",
       "      <td>Yes</td>\n",
       "      <td>0</td>\n",
       "      <td>Yes</td>\n",
       "      <td>Yes</td>\n",
       "      <td>Private</td>\n",
       "      <td>95.4</td>\n",
       "    </tr>\n",
       "    <tr>\n",
       "      <th>1</th>\n",
       "      <td>SSC</td>\n",
       "      <td>HSC</td>\n",
       "      <td>4</td>\n",
       "      <td>No</td>\n",
       "      <td>1</td>\n",
       "      <td>No</td>\n",
       "      <td>Yes</td>\n",
       "      <td>Semi_Govt</td>\n",
       "      <td>66.8</td>\n",
       "    </tr>\n",
       "    <tr>\n",
       "      <th>2</th>\n",
       "      <td>SSC</td>\n",
       "      <td>SSC</td>\n",
       "      <td>5</td>\n",
       "      <td>Yes</td>\n",
       "      <td>2</td>\n",
       "      <td>Yes</td>\n",
       "      <td>Yes</td>\n",
       "      <td>Govt</td>\n",
       "      <td>72.0</td>\n",
       "    </tr>\n",
       "    <tr>\n",
       "      <th>3</th>\n",
       "      <td>SSC</td>\n",
       "      <td>SSC</td>\n",
       "      <td>7</td>\n",
       "      <td>Yes</td>\n",
       "      <td>2</td>\n",
       "      <td>Yes</td>\n",
       "      <td>Yes</td>\n",
       "      <td>Private</td>\n",
       "      <td>86.6</td>\n",
       "    </tr>\n",
       "    <tr>\n",
       "      <th>4</th>\n",
       "      <td>Honors</td>\n",
       "      <td>Masters</td>\n",
       "      <td>4</td>\n",
       "      <td>Yes</td>\n",
       "      <td>1</td>\n",
       "      <td>Yes</td>\n",
       "      <td>Yes</td>\n",
       "      <td>Semi_Govt</td>\n",
       "      <td>64.8</td>\n",
       "    </tr>\n",
       "  </tbody>\n",
       "</table>\n",
       "</div>"
      ],
      "text/plain": [
       "  mother_education father_education  studytime extra_curricular_activities  \\\n",
       "0              SSC              HSC          8                         Yes   \n",
       "1              SSC              HSC          4                          No   \n",
       "2              SSC              SSC          5                         Yes   \n",
       "3              SSC              SSC          7                         Yes   \n",
       "4           Honors          Masters          4                         Yes   \n",
       "\n",
       "   parents_job internet_access parental_involvement school_type  avg_grade  \n",
       "0            0             Yes                  Yes     Private       95.4  \n",
       "1            1              No                  Yes   Semi_Govt       66.8  \n",
       "2            2             Yes                  Yes        Govt       72.0  \n",
       "3            2             Yes                  Yes     Private       86.6  \n",
       "4            1             Yes                  Yes   Semi_Govt       64.8  "
      ]
     },
     "execution_count": 8,
     "metadata": {},
     "output_type": "execute_result"
    }
   ],
   "source": [
    "data_cleaned = data[[\"mother_education\",\n",
    "                     \"father_education\",\n",
    "                     \"studytime\",\n",
    "                     \"extra_curricular_activities\",\n",
    "                     \"parents_job\",\n",
    "                     \"internet_access\",\n",
    "                     \"parental_involvement\",\n",
    "                     \"school_type\",\n",
    "                     \"avg_grade\"]]\n",
    "data_cleaned.head()"
   ]
  },
  {
   "cell_type": "markdown",
   "metadata": {},
   "source": [
    "Finalment explorem el dataset final si hi ha valors absents o nuls."
   ]
  },
  {
   "cell_type": "code",
   "execution_count": 9,
   "metadata": {},
   "outputs": [
    {
     "data": {
      "text/plain": [
       "mother_education               10\n",
       "father_education                4\n",
       "studytime                       0\n",
       "extra_curricular_activities     0\n",
       "parents_job                     0\n",
       "internet_access                 0\n",
       "parental_involvement            0\n",
       "school_type                     0\n",
       "avg_grade                       0\n",
       "dtype: int64"
      ]
     },
     "execution_count": 9,
     "metadata": {},
     "output_type": "execute_result"
    }
   ],
   "source": [
    "data_cleaned.isna().sum()"
   ]
  },
  {
   "cell_type": "code",
   "execution_count": 10,
   "metadata": {},
   "outputs": [
    {
     "data": {
      "text/plain": [
       "mother_education               0\n",
       "father_education               0\n",
       "studytime                      0\n",
       "extra_curricular_activities    0\n",
       "parents_job                    0\n",
       "internet_access                0\n",
       "parental_involvement           0\n",
       "school_type                    0\n",
       "avg_grade                      0\n",
       "dtype: int64"
      ]
     },
     "execution_count": 10,
     "metadata": {},
     "output_type": "execute_result"
    }
   ],
   "source": [
    "(data_cleaned == \"\").sum()"
   ]
  },
  {
   "cell_type": "markdown",
   "metadata": {},
   "source": [
    "Observem que les variables *Mother_education* i *Father_education* tenen alguns valors nuls. Els eliminem perquè són pocs i els podem descartar."
   ]
  },
  {
   "cell_type": "code",
   "execution_count": 11,
   "metadata": {},
   "outputs": [],
   "source": [
    "data_cleaned = data_cleaned.dropna()"
   ]
  },
  {
   "cell_type": "markdown",
   "metadata": {},
   "source": [
    "## Exportació del dataset\n",
    "\n",
    "Ja tenim el dataset a punt, aleshores exportem el dataframe en format csv per passar-lo al Tableau, l'eina que farem servir per a crear les visualitzacions de dades esmentades. El nou dataset es troba a *data/bd_students_cleaned.csv*"
   ]
  },
  {
   "cell_type": "code",
   "execution_count": 12,
   "metadata": {},
   "outputs": [],
   "source": [
    "with open(\"../data/bd_students_cleaned.csv\", \"w\") as f:\n",
    "    data_cleaned.to_csv(f, index=False)"
   ]
  }
 ],
 "metadata": {
  "kernelspec": {
   "display_name": "Python 3",
   "language": "python",
   "name": "python3"
  },
  "language_info": {
   "codemirror_mode": {
    "name": "ipython",
    "version": 3
   },
   "file_extension": ".py",
   "mimetype": "text/x-python",
   "name": "python",
   "nbconvert_exporter": "python",
   "pygments_lexer": "ipython3",
   "version": "3.12.1"
  }
 },
 "nbformat": 4,
 "nbformat_minor": 2
}
